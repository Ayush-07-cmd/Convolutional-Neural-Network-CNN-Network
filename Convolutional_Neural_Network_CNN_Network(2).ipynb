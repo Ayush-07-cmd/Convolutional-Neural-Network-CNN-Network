{
  "cells": [
    {
      "cell_type": "markdown",
      "metadata": {
        "id": "view-in-github",
        "colab_type": "text"
      },
      "source": [
        "<a href=\"https://colab.research.google.com/github/Ayush-07-cmd/Convolutional-Neural-Network-CNN-Network/blob/main/Convolutional_Neural_Network_CNN_Network(2).ipynb\" target=\"_parent\"><img src=\"https://colab.research.google.com/assets/colab-badge.svg\" alt=\"Open In Colab\"/></a>"
      ]
    },
    {
      "cell_type": "markdown",
      "metadata": {
        "id": "dWRnqYSgPVRu"
      },
      "source": [
        "# **Food-101 Image Classification in Google Colab — Full Explanation**"
      ]
    },
    {
      "cell_type": "code",
      "execution_count": null,
      "metadata": {
        "id": "3AG92ZYdPVRx"
      },
      "outputs": [],
      "source": [
        "#STEP 1: Install TensorFlow Datasets\n",
        "#!pip install tensorflow-datasets\n",
        "\n",
        "'''What this does:\n",
        "We install tensorflow-datasets, a library that provides many pre-built datasets like Food-101, MNIST, CIFAR-10, etc., ready for use in ML models.'''"
      ]
    },
    {
      "cell_type": "code",
      "execution_count": null,
      "metadata": {
        "id": "K1QmZzGLPVRz"
      },
      "outputs": [],
      "source": [
        "#STEP 2: Import Required Libraries\n",
        "import tensorflow as tf\n",
        "import tensorflow_datasets as tfds\n",
        "import matplotlib.pyplot as plt\n",
        "import numpy as np\n",
        "\n"
      ]
    },
    {
      "cell_type": "markdown",
      "metadata": {
        "id": "OIN234BGPVR0"
      },
      "source": [
        "# What this does:\n",
        "\n",
        "tensorflow: Deep learning framework (we’ll use it to build/train our model)\n",
        "\n",
        "tensorflow_datasets (tfds): To load the Food-101 dataset\n",
        "\n",
        "matplotlib.pyplot: For image plotting\n",
        "\n",
        "numpy: For numerical operations and predictions"
      ]
    },
    {
      "cell_type": "code",
      "execution_count": null,
      "metadata": {
        "id": "npAiyRh_PVR0"
      },
      "outputs": [],
      "source": [
        "#STEP 3: Load the Food-101 Dataset\n",
        "(ds_train, ds_test), ds_info = tfds.load(\n",
        "    'food101',\n",
        "    split=['train', 'validation'],\n",
        "    shuffle_files=True,\n",
        "    as_supervised=True,\n",
        "    with_info=True\n",
        ")\n"
      ]
    },
    {
      "cell_type": "markdown",
      "metadata": {
        "id": "DDyGAGehPVR1"
      },
      "source": [
        "# What this does step 3:\n",
        "\n",
        "Loads the Food-101 dataset.\n",
        "\n",
        "split=['train', 'validation']: Fetches training and test data.\n",
        "\n",
        "as_supervised=True: Each sample is (image, label)\n",
        "\n",
        "with_info=True: Returns metadata (like label names, shapes, etc.)"
      ]
    },
    {
      "cell_type": "code",
      "execution_count": null,
      "metadata": {
        "id": "uGi41ibxPVR1"
      },
      "outputs": [],
      "source": [
        "#STEP 4: View Dataset Information\n",
        "print(\"Total Classes:\", ds_info.features['label'].num_classes)\n",
        "print(\"Sample Classes:\", ds_info.features['label'].names[:10])\n"
      ]
    },
    {
      "cell_type": "markdown",
      "metadata": {
        "id": "UCNW7WeyPVR1"
      },
      "source": [
        "# What this does step 4\n",
        "ds_info: Metadata about the dataset\n",
        "\n",
        "Prints number of food classes and some class names like \"pizza\", \"sushi\", etc."
      ]
    },
    {
      "cell_type": "code",
      "execution_count": null,
      "metadata": {
        "id": "cukIRLjYPVR1"
      },
      "outputs": [],
      "source": [
        "#STEP 5: Preprocess the Images\n",
        "IMG_SIZE = 224\n",
        "BATCH_SIZE = 32\n",
        "\n",
        "def preprocess(image, label):\n",
        "    image = tf.image.resize(image, (IMG_SIZE, IMG_SIZE))  # Resize to 224x224\n",
        "    image = tf.cast(image, tf.float32) / 255.0             # Normalize pixels [0,1]\n",
        "    return image, label\n",
        "\n",
        "# Apply preprocessing to the datasets\n",
        "ds_train = ds_train.map(preprocess).batch(BATCH_SIZE).prefetch(tf.data.AUTOTUNE)\n",
        "ds_test = ds_test.map(preprocess).batch(BATCH_SIZE).prefetch(tf.data.AUTOTUNE)\n"
      ]
    },
    {
      "cell_type": "markdown",
      "metadata": {
        "id": "txV48rymPVR2"
      },
      "source": [
        "# In step 5\n",
        "Resizes images to 224x224 — standard input size for CNNs like MobileNet.\n",
        "\n",
        "Normalizes pixel values (0–255 → 0–1).\n",
        "\n",
        "Batching: Combines samples into groups of 32 for faster training.\n",
        "\n",
        "Prefetching: Loads next batch while current is training (for speed)."
      ]
    },
    {
      "cell_type": "code",
      "execution_count": null,
      "metadata": {
        "id": "Q1K1ir-nPVR2"
      },
      "outputs": [],
      "source": [
        "#STEP 6: Visualize Images\n",
        "for images, labels in ds_train.take(1):\n",
        "    plt.figure(figsize=(10, 10))\n",
        "    for i in range(9):\n",
        "        ax = plt.subplot(3, 3, i + 1)\n",
        "        plt.imshow(images[i].numpy())\n",
        "        label = ds_info.features['label'].int2str(labels[i].numpy())\n",
        "        plt.title(label)\n",
        "        plt.axis(\"off\")\n",
        "    plt.show()\n"
      ]
    },
    {
      "cell_type": "markdown",
      "metadata": {
        "id": "KYwgZWsPPVR2"
      },
      "source": [
        "# in step 6\n",
        "Displays 9 food images from the training set.\n",
        "\n",
        "Converts label integers to readable food names (e.g., \"pizza\")."
      ]
    },
    {
      "cell_type": "code",
      "execution_count": null,
      "metadata": {
        "id": "SQpcSeypPVR2"
      },
      "outputs": [],
      "source": [
        "#STEP 7: Build the CNN Model (Transfer Learning)\n",
        "base_model = tf.keras.applications.MobileNetV2(\n",
        "    input_shape=(224, 224, 3),\n",
        "    include_top=False,\n",
        "    weights='imagenet'\n",
        ")\n",
        "\n",
        "base_model.trainable = False  # Freeze base layers\n",
        "\n",
        "model = tf.keras.Sequential([\n",
        "    base_model,\n",
        "    tf.keras.layers.GlobalAveragePooling2D(),       # Flatten feature maps\n",
        "    tf.keras.layers.Dense(101, activation='softmax')  # 101 food categories\n",
        "])\n"
      ]
    },
    {
      "cell_type": "markdown",
      "metadata": {
        "id": "h6tlKnKjPVR3"
      },
      "source": [
        "# What In Step 7:\n",
        "\n",
        "Loads MobileNetV2 pretrained on ImageNet (already knows general image features).\n",
        "\n",
        "Freezes it to use as a feature extractor.\n",
        "\n",
        "Adds a custom classification layer (Dense(101)) for our 101 food classes.\n",
        "\n",
        "softmax: Returns probabilities for each class."
      ]
    },
    {
      "cell_type": "code",
      "execution_count": null,
      "metadata": {
        "id": "2JVukT1LPVR3"
      },
      "outputs": [],
      "source": [
        "#STEP 8: Compile the Model\n",
        "model.compile(\n",
        "    optimizer='adam',\n",
        "    loss='sparse_categorical_crossentropy',\n",
        "    metrics=['accuracy']\n",
        ")\n"
      ]
    },
    {
      "cell_type": "markdown",
      "metadata": {
        "id": "vmm7z0aZPVR3"
      },
      "source": [
        "# What in step 8:\n",
        "adam: Efficient optimizer for training.\n",
        "\n",
        "sparse_categorical_crossentropy: Used for integer-labeled multi-class classification.\n",
        "\n",
        "accuracy: Evaluation metric."
      ]
    },
    {
      "cell_type": "code",
      "execution_count": null,
      "metadata": {
        "id": "qJt50z8oPVR3"
      },
      "outputs": [],
      "source": [
        "#STEP 9: Train the Model\n",
        "history = model.fit(ds_train, epochs=5, validation_data=ds_test)"
      ]
    },
    {
      "cell_type": "markdown",
      "metadata": {
        "id": "qxG-_JLyPVR3"
      },
      "source": [
        "# What in STEP 9:\n",
        "Trains the model for 5 epochs (5 passes over training data).\n",
        "\n",
        "Validates performance on the test set after each epoch."
      ]
    },
    {
      "cell_type": "code",
      "execution_count": null,
      "metadata": {
        "id": "GDh_pTu9PVR3"
      },
      "outputs": [],
      "source": [
        "#STEP 10: Evaluate the Model\n",
        "loss, accuracy = model.evaluate(ds_test)\n",
        "print(f\"Test Accuracy: {accuracy * 100:.2f}%\")\n"
      ]
    },
    {
      "cell_type": "markdown",
      "metadata": {
        "id": "nMepzNLEPVR3"
      },
      "source": [
        "# What in step 10:\n",
        "Tests final model on unseen data.\n",
        "\n",
        "Prints accuracy — how well it classifies real food images."
      ]
    },
    {
      "cell_type": "code",
      "execution_count": null,
      "metadata": {
        "id": "jEdEdCrFPVR4"
      },
      "outputs": [],
      "source": [
        "#STEP 11: Make Predictions & Show Results\n",
        "class_names = ds_info.features['label'].names\n",
        "\n",
        "for images, labels in ds_test.take(1):\n",
        "    image = images[0]\n",
        "    true_label = class_names[labels[0].numpy()]\n",
        "\n",
        "    prediction = model.predict(tf.expand_dims(image, axis=0))\n",
        "    predicted_label = class_names[np.argmax(prediction)]\n",
        "\n",
        "    plt.imshow(image)\n",
        "    plt.title(f\"Predicted: {predicted_label}\\nTrue: {true_label}\")\n",
        "    plt.axis('off')\n",
        "    plt.show()\n"
      ]
    },
    {
      "cell_type": "markdown",
      "metadata": {
        "id": "hFs1I9fAPVR4"
      },
      "source": [
        "# What in step 11\n",
        "Selects 1 image from test data.\n",
        "\n",
        "Predicts its label using the model.\n",
        "\n",
        "Displays the image with its true and predicted labels."
      ]
    },
    {
      "cell_type": "code",
      "execution_count": null,
      "metadata": {
        "id": "mE318QnSPVR4"
      },
      "outputs": [],
      "source": [
        "#STEP 12: Save the Trained Model (Optional)\n",
        "model.save(\"food101_model.h5\")  # Save to file\n",
        "#Saves the trained model in .h5 format so you can reuse it later."
      ]
    },
    {
      "cell_type": "markdown",
      "metadata": {
        "id": "Pt3L_fXaPVR4"
      },
      "source": [
        "Step\tCode Block Purpose\n",
        "\n",
        "1\tInstall Datasets\n",
        "\n",
        "2\tImport Libraries\n",
        "\n",
        "3\tLoad Food-101\n",
        "\n",
        "4\tView Class Info\n",
        "\n",
        "5\tPreprocess Images\n",
        "\n",
        "6\tVisualize Samples\n",
        "\n",
        "7\tBuild CNN Model\n",
        "\n",
        "8\tCompile Model\n",
        "\n",
        "9\tTrain Model\n",
        "\n",
        "10\tEvaluate Model\n",
        "\n",
        "11\tPredict & Visualize\n",
        "\n",
        "12\tSave the Model\n",
        "\n"
      ]
    },
    {
      "cell_type": "code",
      "execution_count": null,
      "metadata": {
        "id": "NDvFQ2FvPVR4"
      },
      "outputs": [],
      "source": []
    }
  ],
  "metadata": {
    "kernelspec": {
      "display_name": "Python 3",
      "name": "python3"
    },
    "language_info": {
      "name": "python"
    },
    "colab": {
      "provenance": [],
      "include_colab_link": true
    }
  },
  "nbformat": 4,
  "nbformat_minor": 0
}